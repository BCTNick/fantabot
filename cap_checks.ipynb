{
 "cells": [
  {
   "cell_type": "code",
   "execution_count": 6,
   "id": "83d1199f",
   "metadata": {},
   "outputs": [
    {
     "ename": "AttributeError",
     "evalue": "'list' object has no attribute 'players_cap'",
     "output_type": "error",
     "traceback": [
      "\u001b[1;31m---------------------------------------------------------------------------\u001b[0m",
      "\u001b[1;31mAttributeError\u001b[0m                            Traceback (most recent call last)",
      "Cell \u001b[1;32mIn[6], line 39\u001b[0m\n\u001b[0;32m     36\u001b[0m \u001b[38;5;66;03m# Create auction (but don't run yet)\u001b[39;00m\n\u001b[0;32m     37\u001b[0m auction \u001b[38;5;241m=\u001b[39m Auction(slots, agents, listone, initial_credits)\n\u001b[1;32m---> 39\u001b[0m agents[\u001b[38;5;241m0\u001b[39m:\u001b[38;5;241m6\u001b[39m]\u001b[38;5;241m.\u001b[39mplayers_cap\n",
      "\u001b[1;31mAttributeError\u001b[0m: 'list' object has no attribute 'players_cap'"
     ]
    }
   ],
   "source": [
    "import random\n",
    "import logging\n",
    "import pandas as pd\n",
    "from datetime import datetime\n",
    "import sys\n",
    "import os\n",
    "\n",
    "# Add src to path\n",
    "sys.path.append(os.path.join(os.getcwd(), 'src'))\n",
    "\n",
    "from src.models import Slots\n",
    "from src.agents.agent_class import RandomAgent\n",
    "from src.agents.cap_based_agent import CapAgent, CapAgentBoh\n",
    "from src.auction import Auction\n",
    "from src.data_loader import load_players_from_excel\n",
    "\n",
    "\n",
    "# Create the characteristics of the auction\n",
    "agents = [\n",
    "        CapAgent(agent_id=\"cap_0.7\", bestxi_budget=0.7),\n",
    "        CapAgent(agent_id=\"cap_0.8\", bestxi_budget=0.8),\n",
    "        CapAgent(agent_id=\"cap_0.9\", bestxi_budget=0.9),\n",
    "        CapAgent(agent_id=\"cap_0.95\", bestxi_budget=0.95),\n",
    "        CapAgent(agent_id=\"cap_aggressive\", bestxi_budget=1),\n",
    "        CapAgent(agent_id=\"cap_very_aggressive\", bestxi_budget=1.3),\n",
    "        CapAgentBoh(agent_id=\"capboh\")\n",
    "    ]\n",
    "\n",
    "\n",
    "initial_credits = 1000\n",
    "slots = Slots()\n",
    "listone = load_players_from_excel()\n",
    "auction_type = \"chiamata\"\n",
    "per_ruolo = True\n",
    "\n",
    "# Create auction (but don't run yet)\n",
    "auction = Auction(slots, agents, listone, initial_credits)\n",
    "\n",
    "agents[0:6].players_cap"
   ]
  }
 ],
 "metadata": {
  "kernelspec": {
   "display_name": "base",
   "language": "python",
   "name": "python3"
  },
  "language_info": {
   "codemirror_mode": {
    "name": "ipython",
    "version": 3
   },
   "file_extension": ".py",
   "mimetype": "text/x-python",
   "name": "python",
   "nbconvert_exporter": "python",
   "pygments_lexer": "ipython3",
   "version": "3.11.5"
  }
 },
 "nbformat": 4,
 "nbformat_minor": 5
}
