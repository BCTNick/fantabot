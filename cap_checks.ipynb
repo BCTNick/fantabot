{
 "cells": [
  {
   "cell_type": "code",
   "execution_count": 4,
   "id": "83d1199f",
   "metadata": {},
   "outputs": [
    {
     "ename": "AttributeError",
     "evalue": "'list' object has no attribute 'players_cap'",
     "output_type": "error",
     "traceback": [
      "\u001b[31m---------------------------------------------------------------------------\u001b[39m",
      "\u001b[31mAttributeError\u001b[39m                            Traceback (most recent call last)",
      "\u001b[36mCell\u001b[39m\u001b[36m \u001b[39m\u001b[32mIn[4]\u001b[39m\u001b[32m, line 40\u001b[39m\n\u001b[32m     37\u001b[39m \u001b[38;5;66;03m# Create auction (but don't run yet)\u001b[39;00m\n\u001b[32m     38\u001b[39m auction = Auction(slots, agents, listone, initial_credits)\n\u001b[32m---> \u001b[39m\u001b[32m40\u001b[39m \u001b[43magents\u001b[49m\u001b[43m[\u001b[49m\u001b[32;43m0\u001b[39;49m\u001b[43m:\u001b[49m\u001b[32;43m7\u001b[39;49m\u001b[43m]\u001b[49m\u001b[43m.\u001b[49m\u001b[43mplayers_cap\u001b[49m\n",
      "\u001b[31mAttributeError\u001b[39m: 'list' object has no attribute 'players_cap'"
     ]
    }
   ],
   "source": [
    "import random\n",
    "import logging\n",
    "import pandas as pd\n",
    "from datetime import datetime\n",
    "import sys\n",
    "import os\n",
    "\n",
    "# Add src to path\n",
    "sys.path.append(os.path.join(os.getcwd(), 'src'))\n",
    "\n",
    "from src.models import Slots\n",
    "from src.agents.agent_class import RandomAgent\n",
    "from src.agents.cap_based_agent import CapAgent\n",
    "from src.auction import Auction\n",
    "from src.data_loader import load_players_from_excel\n",
    "\n",
    "\n",
    "# Create the characteristics of the auction\n",
    "agents = [\n",
    "        CapAgent(agent_id=\"cap_0.7\", bestxi_budget=0.7),\n",
    "        CapAgent(agent_id=\"cap_0.8\", bestxi_budget=0.8),\n",
    "        CapAgent(agent_id=\"cap_0.9\", bestxi_budget=0.9),\n",
    "        CapAgent(agent_id=\"cap_0.95\", bestxi_budget=0.95),\n",
    "        CapAgent(agent_id=\"cap_aggressive\", bestxi_budget=1),\n",
    "        CapAgent(agent_id=\"cap_very_aggressive\", bestxi_budget=1.3),\n",
    "        CapAgent(agent_id=\"tierbasato\", cap_strategy=\"tier_based\"),\n",
    "        CapAgent(agent_id=\"capadiza\" )\n",
    "    ]\n",
    "\n",
    "\n",
    "initial_credits = 1000\n",
    "slots = Slots()\n",
    "listone = load_players_from_excel()\n",
    "auction_type = \"chiamata\"\n",
    "per_ruolo = True\n",
    "\n",
    "# Create auction (but don't run yet)\n",
    "auction = Auction(slots, agents, listone, initial_credits)\n",
    "\n",
    "agents[0:7].players_cap"
   ]
  }
 ],
 "metadata": {
  "kernelspec": {
   "display_name": "Python 3",
   "language": "python",
   "name": "python3"
  },
  "language_info": {
   "codemirror_mode": {
    "name": "ipython",
    "version": 3
   },
   "file_extension": ".py",
   "mimetype": "text/x-python",
   "name": "python",
   "nbconvert_exporter": "python",
   "pygments_lexer": "ipython3",
   "version": "3.13.7"
  }
 },
 "nbformat": 4,
 "nbformat_minor": 5
}
